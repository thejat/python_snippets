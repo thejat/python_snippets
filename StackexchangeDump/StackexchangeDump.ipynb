{
 "metadata": {
  "name": "",
  "signature": "sha256:2cfc14d05ec3a0d14a67b2b8973b5fc560146e988e3f62c3d386ce607736d9a9"
 },
 "nbformat": 3,
 "nbformat_minor": 0,
 "worksheets": [
  {
   "cells": [
    {
     "cell_type": "code",
     "collapsed": false,
     "input": [
      "from __future__ import print_function\n",
      "import stackexchange #install this using easy_install: easy_install Py-StackExchange\n",
      "\n",
      "st = stackexchange.Site(stackexchange.StatisticalAnalysis, app_key='HvjmZw1Vain0t7VMMdDU4A((') #This is Theja's key, you should use your own\n",
      "st.impose_throttling = True\n",
      "st.throttle_stop = False\n",
      "st.be_inclusive()\n",
      "#Theja's Cross Validated Address: http://stats.stackexchange.com/users/30815/\n",
      "theja = st.user(30815)\n",
      "answers = theja.answers.fetch()\n",
      "#dir(question)"
     ],
     "language": "python",
     "metadata": {},
     "outputs": [],
     "prompt_number": 1
    },
    {
     "cell_type": "code",
     "collapsed": false,
     "input": [
      "import time\n",
      "f_se_stats =open('../../se_stats.md', 'wb')\n",
      "f_se_stats.write('---\\n')\n",
      "f_se_stats.write('layout: post\\n')\n",
      "f_se_stats.write('title:  \"Theja\\'s Stats.Stackexchange Footprint/Mirror\" \\n')\n",
      "f_se_stats.write('---\\n\\n')\n",
      "f_se_stats.write('Hi folks! I took the opportunity to select out my answers to some stackexchange questions and reproduce them here. The questions are by various users on Stackexchange and the answers are mine. I have linked the original content in the question titles. This list was generated on '+time.asctime( time.localtime(time.time()) )+'. Hope you find this a good read.\\n\\n')\n",
      "counter = 0\n",
      "for a in answers:\n",
      "    answer = st.answer(a.id)\n",
      "    question = st.question(answer.question_id)\n",
      "    counter +=1\n",
      "    f_se_stats.write('------\\n')\n",
      "    f_se_stats.write('\\n### Question ' + str(counter) + ': ')\n",
      "    f_se_stats.write('['+question.title.encode('utf-8')+']('+question.url+')')\n",
      "    f_se_stats.write('\\n\\n{% raw %}\\n')\n",
      "    f_se_stats.write(question.body.encode('utf-8'))\n",
      "    f_se_stats.write('\\n{% endraw%}\\n\\n')\n",
      "    f_se_stats.write('### My Answer:\\n\\n')\n",
      "    f_se_stats.write('{% raw %}\\n')\n",
      "    f_se_stats.write(answer.body.encode('utf-8'))\n",
      "    f_se_stats.write('\\n{% endraw%}\\n\\n\\n\\n\\n')\n",
      "\n",
      "f_se_stats.close()"
     ],
     "language": "python",
     "metadata": {},
     "outputs": [],
     "prompt_number": 28
    },
    {
     "cell_type": "code",
     "collapsed": false,
     "input": [],
     "language": "python",
     "metadata": {},
     "outputs": [],
     "prompt_number": 4
    }
   ],
   "metadata": {}
  }
 ]
}