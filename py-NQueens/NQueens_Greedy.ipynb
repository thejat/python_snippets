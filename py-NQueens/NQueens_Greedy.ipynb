{
 "metadata": {
  "name": "",
  "signature": "sha256:c6630992d8b5eb685c78db4429bd56e380ba8121758074afa6e4770e80739cc1"
 },
 "nbformat": 3,
 "nbformat_minor": 0,
 "worksheets": [
  {
   "cells": [
    {
     "cell_type": "code",
     "collapsed": false,
     "input": [
      "#Eight Queens Problem: Can be asked in a junior programmer interview.\n",
      "#This solution is not mine."
     ],
     "language": "python",
     "metadata": {},
     "outputs": [],
     "prompt_number": 1
    },
    {
     "cell_type": "code",
     "collapsed": false,
     "input": [
      "import pprint\n",
      "class NQueens(object):\n",
      "    def __init__(self,N=8):\n",
      "        self.N = N\n",
      "        self.board = [['*' for j in range(N)] for i in range(N)]\n",
      "    \n",
      "    def get_greedy_solution(self):\n",
      "        self.solve(0)\n",
      "        pprint.pprint(self.board)\n",
      "    \n",
      "    def solve(self,row):\n",
      "        if row >= self.N:#base case, have already reached beyond the last row, rows from 0 to N-1\n",
      "            return True\n",
      "        for position in range(self.N):#if not beyond last row, still have to fit atleast one more queen\n",
      "            if self.isValid(row,position):\n",
      "                self.board[row][position] = 'Q'\n",
      "                if not self.solve(row+1):\n",
      "                    self.board[row][position] = '*' #leave it as is if recursion from next row onwards fails!\n",
      "                else:\n",
      "                    return True\n",
      "        return False\n",
      "    \n",
      "    def isValid(self,row,position):#check if putting the queen at 'position' is valid on this row\n",
      "        #Vertical lower rows\n",
      "        for i in range(row):\n",
      "            if self.board[i][position]=='Q':\n",
      "                return False\n",
      "        #Left lower quadrant\n",
      "        i = row-1\n",
      "        j = position-1\n",
      "        while i>=0 and j >=0:\n",
      "            if self.board[i][j]=='Q':\n",
      "                return False\n",
      "            i -= 1\n",
      "            j -= 1\n",
      "        #Right lower quadrant    \n",
      "        i = row - 1\n",
      "        j = position + 1\n",
      "        while i>=0 and j < self.N:\n",
      "            if self.board[i][j]=='Q':\n",
      "                return False\n",
      "            i -= 1\n",
      "            j += 1\n",
      "        return True"
     ],
     "language": "python",
     "metadata": {},
     "outputs": [],
     "prompt_number": 7
    },
    {
     "cell_type": "code",
     "collapsed": false,
     "input": [
      "newproblem = NQueens(8)\n",
      "newproblem.get_greedy_solution()"
     ],
     "language": "python",
     "metadata": {},
     "outputs": [
      {
       "output_type": "stream",
       "stream": "stdout",
       "text": [
        "[['Q', '*', '*', '*', '*', '*', '*', '*'],\n",
        " ['*', '*', '*', '*', 'Q', '*', '*', '*'],\n",
        " ['*', '*', '*', '*', '*', '*', '*', 'Q'],\n",
        " ['*', '*', '*', '*', '*', 'Q', '*', '*'],\n",
        " ['*', '*', 'Q', '*', '*', '*', '*', '*'],\n",
        " ['*', '*', '*', '*', '*', '*', 'Q', '*'],\n",
        " ['*', 'Q', '*', '*', '*', '*', '*', '*'],\n",
        " ['*', '*', '*', 'Q', '*', '*', '*', '*']]\n"
       ]
      }
     ],
     "prompt_number": 8
    },
    {
     "cell_type": "code",
     "collapsed": false,
     "input": [
      "newproblem14 = NQueens(14)\n",
      "newproblem14.get_greedy_solution()"
     ],
     "language": "python",
     "metadata": {},
     "outputs": [
      {
       "output_type": "stream",
       "stream": "stdout",
       "text": [
        "[['Q', '*', '*', '*', '*', '*', '*', '*', '*', '*', '*', '*', '*', '*'],\n",
        " ['*', '*', 'Q', '*', '*', '*', '*', '*', '*', '*', '*', '*', '*', '*'],\n",
        " ['*', '*', '*', '*', 'Q', '*', '*', '*', '*', '*', '*', '*', '*', '*'],\n",
        " ['*', '*', '*', '*', '*', '*', 'Q', '*', '*', '*', '*', '*', '*', '*'],\n",
        " ['*', '*', '*', '*', '*', '*', '*', '*', '*', '*', '*', 'Q', '*', '*'],\n",
        " ['*', '*', '*', '*', '*', '*', '*', '*', '*', 'Q', '*', '*', '*', '*'],\n",
        " ['*', '*', '*', '*', '*', '*', '*', '*', '*', '*', '*', '*', 'Q', '*'],\n",
        " ['*', '*', '*', 'Q', '*', '*', '*', '*', '*', '*', '*', '*', '*', '*'],\n",
        " ['*', '*', '*', '*', '*', '*', '*', '*', '*', '*', '*', '*', '*', 'Q'],\n",
        " ['*', '*', '*', '*', '*', '*', '*', '*', 'Q', '*', '*', '*', '*', '*'],\n",
        " ['*', 'Q', '*', '*', '*', '*', '*', '*', '*', '*', '*', '*', '*', '*'],\n",
        " ['*', '*', '*', '*', '*', 'Q', '*', '*', '*', '*', '*', '*', '*', '*'],\n",
        " ['*', '*', '*', '*', '*', '*', '*', 'Q', '*', '*', '*', '*', '*', '*'],\n",
        " ['*', '*', '*', '*', '*', '*', '*', '*', '*', '*', 'Q', '*', '*', '*']]\n"
       ]
      }
     ],
     "prompt_number": 9
    }
   ],
   "metadata": {}
  }
 ]
}