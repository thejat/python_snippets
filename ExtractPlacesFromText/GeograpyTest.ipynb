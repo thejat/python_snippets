{
 "metadata": {
  "name": "",
  "signature": "sha256:3dbe7a0842e017eccc4fc97b1043bc076a125c21fec953de5df0973085fe0d41"
 },
 "nbformat": 3,
 "nbformat_minor": 0,
 "worksheets": [
  {
   "cells": [
    {
     "cell_type": "code",
     "collapsed": false,
     "input": [
      "#Same as geograpy-nltk script\n",
      "\n",
      "from nltk import downloader\n",
      "\n",
      "downloader.download('maxent_ne_chunker')\n",
      "downloader.download('words')\n",
      "downloader.download('treebank')\n",
      "downloader.download('maxent_treebank_pos_tagger')"
     ],
     "language": "python",
     "metadata": {},
     "outputs": [],
     "prompt_number": 4
    },
    {
     "cell_type": "code",
     "collapsed": false,
     "input": [
      "import geograpy\n",
      "url = 'http://www.bbc.com/news/world-europe-26919928'\n",
      "places = geograpy.get_place_context(url=url)"
     ],
     "language": "python",
     "metadata": {},
     "outputs": [],
     "prompt_number": 5
    },
    {
     "cell_type": "code",
     "collapsed": false,
     "input": [
      "print places.countries\n",
      "print places.regions\n",
      "print places.cities\n",
      "print places.other\n",
      "print places.country_regions\n",
      "print places.country_cities\n",
      "print places.address_strings\n",
      "print places.country_mentions\n",
      "print places.region_mentions\n",
      "print places.city_mentions"
     ],
     "language": "python",
     "metadata": {},
     "outputs": [
      {
       "output_type": "stream",
       "stream": "stdout",
       "text": [
        "[u'Ukraine', 'Russian Federation', u'Lithuania', 'Czech Republic', u'United States']\n",
        "[u'Donetsk', u'Luhansk']\n",
        "[u'Moscow', u'Donetsk', u'Kharkiv', u'Russia']\n",
        "[u'Ukrainian', u'Ukrainian', u'Russian', u'Kiev', u'Sergei', u'Crimean', u'Ukrainian', u'Kiev', u'Crimea', u'Ukrainian', u'Russian', u'First', u'Turchynov', u'Nato', u'Nato', u'Ukrainian', u'Kiev', u'Crimea', u'Russian', u'Kiev', u'Russian', u'Kiev']\n",
        "{u'Ukraine': [u'Donetsk', u'Luhansk'], 'Russian Federation': [], u'Lithuania': [], 'Czech Republic': []}\n",
        "{u'Russian Federation': [u'Moscow'], u'Ukraine': [u'Donetsk', u'Kharkiv'], u'United States': [u'Moscow', u'Russia']}\n",
        "[]\n",
        "[(u'Ukraine', 15), ('Russian Federation', 14), ('Czech Republic', 2), (u'Lithuania', 1), (u'United States', 1)]\n",
        "[(u'Luhansk', 3), (u'Donetsk', 1)]\n",
        "[(u'Russia', 14), (u'Moscow', 5), (u'Kharkiv', 4), (u'Donetsk', 1)]\n"
       ]
      }
     ],
     "prompt_number": 11
    }
   ],
   "metadata": {}
  }
 ]
}