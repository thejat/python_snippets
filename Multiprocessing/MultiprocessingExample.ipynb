{
 "metadata": {
  "name": ""
 },
 "nbformat": 3,
 "nbformat_minor": 0,
 "worksheets": [
  {
   "cells": [
    {
     "cell_type": "code",
     "collapsed": false,
     "input": [
      "#original src: http://dmcdougall.co.uk/parallel-monte-carlo-using-python-and-numpy/\n",
      "import sys  \n",
      "import numpy as np  \n",
      "from multiprocessing import Pool\n",
      "\n",
      "def integrate(its):  \n",
      "    # I totally cheated and tweaked the number of chunks\n",
      "    # to get the fastest result\n",
      "    chunks = 10000\n",
      "    chunk_size = its / chunks\n",
      "\n",
      "    np.random.seed()  # Each process needs a different seed!\n",
      "\n",
      "    sum = 0.0\n",
      "    for i in xrange(chunks):  # For each chunk...\n",
      "        # ...do a vectorised Monte Carlo calculation\n",
      "        u = np.random.uniform(size=its/chunks)\n",
      "        sum += np.sum(np.exp(-u * u))  # Do the Monte Carlo\n",
      "\n",
      "    # We did 'its' total iterations in this process, so\n",
      "    # normalise the result and return it\n",
      "    return sum / float(its)\n",
      "\n",
      "if __name__ == '__main__':  \n",
      "    num_procs = 8\n",
      "\n",
      "    iters = 1000000000\n",
      "    its = iters / num_procs  # Each process gets a share of the iterations\n",
      "\n",
      "    pool = Pool(processes=num_procs)\n",
      "\n",
      "    # Each process calls 'integrate' with 'its' iterations\n",
      "    result = pool.map(integrate, [its] * num_procs)\n",
      "\n",
      "    # pool.map returns a list of length 'num_procs', with\n",
      "    # element 'i' being the return value of 'integrate' from\n",
      "    # process 'i'\n",
      "\n",
      "    # Renormalise by the number of processors\n",
      "    print sum(result) / float(num_procs)\n",
      "    print 'Analytical answer:'"
     ],
     "language": "python",
     "metadata": {},
     "outputs": [
      {
       "output_type": "stream",
       "stream": "stdout",
       "text": [
        "0.746819168794\n"
       ]
      }
     ],
     "prompt_number": 2
    },
    {
     "cell_type": "code",
     "collapsed": false,
     "input": [
      "#Check in Matlab: sqrt(pi)*.5*erf(1) gives 0.7468\n",
      "#definition: http://www.mathworks.com/help/matlab/ref/erf.html\n",
      "\n",
      "#could not use the following\n",
      "#from scipy.special import erf\n",
      "#math.erf"
     ],
     "language": "python",
     "metadata": {},
     "outputs": [],
     "prompt_number": 22
    },
    {
     "cell_type": "code",
     "collapsed": false,
     "input": [],
     "language": "python",
     "metadata": {},
     "outputs": [],
     "prompt_number": 22
    }
   ],
   "metadata": {}
  }
 ]
}