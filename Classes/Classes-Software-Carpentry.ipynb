{
 "metadata": {
  "name": "",
  "signature": "sha256:290e9628197b3ca1d48f5eea9b52fff816cd4db38709ae6253429558a9dc2a03"
 },
 "nbformat": 3,
 "nbformat_minor": 0,
 "worksheets": [
  {
   "cells": [
    {
     "cell_type": "code",
     "collapsed": false,
     "input": [
      "#class\n",
      "class Empty(object):\n",
      "    pass\n",
      "\n",
      "#objects\n",
      "first = Empty()\n",
      "second = Empty()\n",
      "\n",
      "print id(first)\n",
      "print id(second)\n",
      "\n",
      "first.value = 999\n",
      "print second.value"
     ],
     "language": "python",
     "metadata": {},
     "outputs": [
      {
       "output_type": "stream",
       "stream": "stdout",
       "text": [
        "4430893712\n",
        "4430893648\n"
       ]
      },
      {
       "ename": "AttributeError",
       "evalue": "'Empty' object has no attribute 'value'",
       "output_type": "pyerr",
       "traceback": [
        "\u001b[0;31m---------------------------------------------------------------------------\u001b[0m\n\u001b[0;31mAttributeError\u001b[0m                            Traceback (most recent call last)",
        "\u001b[0;32m<ipython-input-9-ffbff62c5c1d>\u001b[0m in \u001b[0;36m<module>\u001b[0;34m()\u001b[0m\n\u001b[1;32m     11\u001b[0m \u001b[0;34m\u001b[0m\u001b[0m\n\u001b[1;32m     12\u001b[0m \u001b[0mfirst\u001b[0m\u001b[0;34m.\u001b[0m\u001b[0mvalue\u001b[0m \u001b[0;34m=\u001b[0m \u001b[0;36m999\u001b[0m\u001b[0;34m\u001b[0m\u001b[0m\n\u001b[0;32m---> 13\u001b[0;31m \u001b[0;32mprint\u001b[0m \u001b[0msecond\u001b[0m\u001b[0;34m.\u001b[0m\u001b[0mvalue\u001b[0m\u001b[0;34m\u001b[0m\u001b[0m\n\u001b[0m",
        "\u001b[0;31mAttributeError\u001b[0m: 'Empty' object has no attribute 'value'"
       ]
      }
     ],
     "prompt_number": 9
    },
    {
     "cell_type": "code",
     "collapsed": false,
     "input": [
      "whos"
     ],
     "language": "python",
     "metadata": {},
     "outputs": [
      {
       "output_type": "stream",
       "stream": "stdout",
       "text": [
        "Variable   Type     Data/Info\n",
        "-----------------------------\n",
        "Empty      type     <class '__main__.Empty'>\n",
        "first      Empty    <__main__.Empty object at 0x108198f90>\n",
        "second     Empty    <__main__.Empty object at 0x108198f50>\n"
       ]
      }
     ],
     "prompt_number": 6
    },
    {
     "cell_type": "code",
     "collapsed": false,
     "input": [
      "#another class\n",
      "\n",
      "class Greeter(object):\n",
      "    def greet(self, name):\n",
      "        print self.hello , name, '!'\n",
      "    \n",
      "hello = 'Namaste'    \n",
      "g = Greeter()\n",
      "g.hello = 'Hi'\n",
      "g.greet('Theja')\n",
      "g1 = Greeter()\n",
      "g1.hello = 'Bonjour'\n",
      "g1.greet('Theja')\n",
      "#Object's data is not hidden in Python"
     ],
     "language": "python",
     "metadata": {},
     "outputs": [
      {
       "output_type": "stream",
       "stream": "stdout",
       "text": [
        "Hi Theja !\n",
        "Bonjour Theja !\n"
       ]
      }
     ],
     "prompt_number": 10
    },
    {
     "cell_type": "code",
     "collapsed": false,
     "input": [
      "#Use constructors to customize objects\n",
      "\n",
      "class BetterGreeter(object):\n",
      "    def __init__(self,what_to_say):\n",
      "        self.hello = what_to_say #need to use self.xxxx\n",
      "    def greet(self,name):\n",
      "        print self.hello, name, '!'\n",
      "\n",
      "g2 = BetterGreeter('Namaste')\n",
      "g2.greet('Theja')"
     ],
     "language": "python",
     "metadata": {},
     "outputs": [
      {
       "output_type": "stream",
       "stream": "stdout",
       "text": [
        "Namaste Theja !\n"
       ]
      }
     ],
     "prompt_number": 11
    },
    {
     "cell_type": "code",
     "collapsed": false,
     "input": [
      "#don't use list of lists approach if you can avoid it\n",
      "class Rectangle(object):\n",
      "    def __init__(self,x0,y0,x1,y1):\n",
      "        assert x0 < x1, 'x0 is not less than x1'#fail early, fail often\n",
      "        assert y0 < y1, 'y0 is not less than y1'\n",
      "        self.x0 = x0\n",
      "        self.y0 = y0\n",
      "        self.x1 = x1\n",
      "        self.y1 = y1\n",
      "    def area(self):\n",
      "        return (self.x1-self.x0)*(self.y1-self.y0)\n",
      "    def contains(self,x,y):\n",
      "        return (self.x0 <= x <= self.x1) and \\\n",
      "                (self.y0 <= y <= self.y1)\n",
      "        \n",
      "r = Rectangle(1,1,2,2)\n",
      "print r.area()\n",
      "print r.contains(.5,.5)\n",
      "print r.contains(1.5,1.5)"
     ],
     "language": "python",
     "metadata": {},
     "outputs": [
      {
       "output_type": "stream",
       "stream": "stdout",
       "text": [
        "1\n",
        "False\n",
        "True\n"
       ]
      }
     ],
     "prompt_number": 14
    },
    {
     "cell_type": "code",
     "collapsed": false,
     "input": [
      "#Interfaces\n",
      "class StepSignal(object):\n",
      "    def __init__(self,values):\n",
      "        self.values = values[:] #make a copy\n",
      "    def interpolate(self,x0,y0,x1,y1,where):\n",
      "        return y0\n",
      "    def get(self,where):\n",
      "        if where < self.values[0][0]:\n",
      "            raise IndexError, '%f too low' % where\n",
      "        for i in range(len(self.values)-1):\n",
      "            x0,y0 = self.values[i]\n",
      "            x1,y1 = self.values[i+1]\n",
      "            if x0 <= where < x1:\n",
      "                return self.interpolate(x0,y0,x1,y1,where)\n",
      "        raise IndexError, '%f too high' % where\n",
      "    \n",
      "    \n",
      "interp = StepSignal(((0.,0.),(1.,1.),(2.,2.)))\n",
      "for x in (0.0,.5,1.0,1.75):\n",
      "    print x, interp.get(x)\n",
      "\n",
      "#Test error handling\n",
      "for val in (-100.0,-0.0001,2.0,100.0):\n",
      "    try:\n",
      "        interp.get(val)\n",
      "        assert False, 'Should not he here:' % val\n",
      "    except IndexError, e:\n",
      "        print val, 'raised expected exception'"
     ],
     "language": "python",
     "metadata": {},
     "outputs": [
      {
       "output_type": "stream",
       "stream": "stdout",
       "text": [
        "0.0 0.0\n",
        "0.5 0.0\n",
        "1.0 1.0\n",
        "1.75 1.0\n",
        "-100.0 raised expected exception\n",
        "-0.0001 raised expected exception\n",
        "2.0 raised expected exception\n",
        "100.0 raised expected exception\n"
       ]
      }
     ],
     "prompt_number": 1
    },
    {
     "cell_type": "code",
     "collapsed": false,
     "input": [
      "class LinearSignal(StepSignal): #Inheritance\n",
      "    def interpolate(self,x0,y0,x1,y1,where):\n",
      "        return y0 + (y1-y0)*(where-x0)/(x1-x0)\n",
      "\n",
      "interpl = LinearSignal(((0.,0.),(1.,1.),(2.,2.)))\n",
      "for x in (0.0,.5,1.0,1.75):\n",
      "    print x, interpl.get(x)\n",
      "        "
     ],
     "language": "python",
     "metadata": {},
     "outputs": [
      {
       "output_type": "stream",
       "stream": "stdout",
       "text": [
        "0.0 0.0\n",
        "0.5 0.5\n",
        "1.0 1.0\n",
        "1.75 1.75\n"
       ]
      }
     ],
     "prompt_number": 2
    },
    {
     "cell_type": "code",
     "collapsed": false,
     "input": [
      "#Payoff from class definitions: \n",
      "#can use both StepSignal or LinearSignal as input below\n",
      "\n",
      "def average(signal,x0,x1,num_samples):\n",
      "    assert x0 < x1, 'x0 is not less than x1'\n",
      "    width = 1.0*(x1-x0)/num_samples\n",
      "    total = 0.0\n",
      "    for i in range(num_samples):\n",
      "        x = x0 + i*width\n",
      "        total += signal.get(x)\n",
      "        #print x, signal.get(x)\n",
      "    return 1.0*total/num_samples\n",
      "\n",
      "print average(interp,0,2,3)\n",
      "print average(interpl,0,2,3)\n",
      "\n",
      "class Sinusoid(object):\n",
      "    def __init__(self,amplitude,frequency):\n",
      "        self.amp = amplitude\n",
      "        self.freq = frequency\n",
      "    def get(self,x):\n",
      "        return self.amp*math.sin(x*self.freq)\n",
      "\n",
      "sinsignal = Sinusoid(1,2)\n",
      "print average(sinsignal,0,2,3)"
     ],
     "language": "python",
     "metadata": {},
     "outputs": [
      {
       "output_type": "stream",
       "stream": "stdout",
       "text": [
        "0.333333333333\n",
        "0.666666666667\n",
        "0.476403509333\n"
       ]
      }
     ],
     "prompt_number": 9
    },
    {
     "cell_type": "code",
     "collapsed": false,
     "input": [
      "#Alternate Inheritence\n",
      "class Signal2(object):\n",
      "    def __init__(self,values):\n",
      "        assert len(values) > 0, 'Must have some pairs'\n",
      "        for i in range(len(values)):\n",
      "            assert len(values[i]) ==2, 'Entries must be pairs'\n",
      "        for i in range(len(values)-1):\n",
      "            x0 = values[i][0]\n",
      "            x1 = values[i+1][0]\n",
      "            assert x0 < x1, 'Samples must increase on x'\n",
      "        \n",
      "        self.values = values[:] #make a copy\n",
      "    def find(self,where):\n",
      "        if where < self.values[0][0]:\n",
      "            raise IndexError, '%f too low' % where\n",
      "        for i in range(len(self.values)-1):\n",
      "            if x0 <= where < x1:\n",
      "                return i\n",
      "        raise IndexError, '%f too high' % where\n",
      "    def get(self,where):\n",
      "        raise NotImplementedError('Child classes must implement their own get!')\n",
      "    \n",
      "class StepSignal2(Signal2):\n",
      "    def __init__(self,values): #NOT CLEAR WHY THIS IS REQUIRED\n",
      "        Signal2.__init__(self,values)\n",
      "    def get(self,where): #OVERRIDING\n",
      "        i = self.find(self,where)\n",
      "        return self.values[i][1]\n",
      "class LinearSignal2(Signal2):\n",
      "    def __init__(self,values): #NOT CLEAR WHY THIS IS REQUIRED\n",
      "        Signal2.__init__(self,values)\n",
      "    def get(self,where): #OVERRIDING\n",
      "        i = self.find(self,where)\n",
      "        x0,y0 = self.values[i]\n",
      "        x1,y1 = self.values[i+1]\n",
      "        return y0 + 1.0*(y1-y0)*(where-x0)/(x1-x0)\n",
      "    \n",
      "interpl = LinearSignal(((0.,0.),(1.,1.),(2.,2.)))\n",
      "for x in (0.0,.5,1.0,1.75):\n",
      "    print x, interpl.get(x)"
     ],
     "language": "python",
     "metadata": {},
     "outputs": [
      {
       "output_type": "stream",
       "stream": "stdout",
       "text": [
        "0.0 0.0\n",
        "0.5 0.5\n",
        "1.0 1.0\n",
        "1.75 1.75\n"
       ]
      }
     ],
     "prompt_number": 14
    },
    {
     "cell_type": "code",
     "collapsed": false,
     "input": [
      "#Signal2([])\n",
      "#Signal2([[1,2],[0,2]])\n",
      "Signal2([[1],[1,2]])"
     ],
     "language": "python",
     "metadata": {},
     "outputs": [
      {
       "ename": "AssertionError",
       "evalue": "Entries must be pairs",
       "output_type": "pyerr",
       "traceback": [
        "\u001b[0;31m---------------------------------------------------------------------------\u001b[0m\n\u001b[0;31mAssertionError\u001b[0m                            Traceback (most recent call last)",
        "\u001b[0;32m<ipython-input-22-7b63ba920a77>\u001b[0m in \u001b[0;36m<module>\u001b[0;34m()\u001b[0m\n\u001b[1;32m      1\u001b[0m \u001b[0;31m#Signal2([])\u001b[0m\u001b[0;34m\u001b[0m\u001b[0;34m\u001b[0m\u001b[0m\n\u001b[1;32m      2\u001b[0m \u001b[0;31m#Signal2([[1,2],[0,2]])\u001b[0m\u001b[0;34m\u001b[0m\u001b[0;34m\u001b[0m\u001b[0m\n\u001b[0;32m----> 3\u001b[0;31m \u001b[0mSignal2\u001b[0m\u001b[0;34m(\u001b[0m\u001b[0;34m[\u001b[0m\u001b[0;34m[\u001b[0m\u001b[0;36m1\u001b[0m\u001b[0;34m]\u001b[0m\u001b[0;34m,\u001b[0m\u001b[0;34m[\u001b[0m\u001b[0;36m1\u001b[0m\u001b[0;34m,\u001b[0m\u001b[0;36m2\u001b[0m\u001b[0;34m]\u001b[0m\u001b[0;34m]\u001b[0m\u001b[0;34m)\u001b[0m\u001b[0;34m\u001b[0m\u001b[0m\n\u001b[0m",
        "\u001b[0;32m<ipython-input-14-6aca559568cd>\u001b[0m in \u001b[0;36m__init__\u001b[0;34m(self, values)\u001b[0m\n\u001b[1;32m      4\u001b[0m         \u001b[0;32massert\u001b[0m \u001b[0mlen\u001b[0m\u001b[0;34m(\u001b[0m\u001b[0mvalues\u001b[0m\u001b[0;34m)\u001b[0m \u001b[0;34m>\u001b[0m \u001b[0;36m0\u001b[0m\u001b[0;34m,\u001b[0m \u001b[0;34m'Must have some pairs'\u001b[0m\u001b[0;34m\u001b[0m\u001b[0m\n\u001b[1;32m      5\u001b[0m         \u001b[0;32mfor\u001b[0m \u001b[0mi\u001b[0m \u001b[0;32min\u001b[0m \u001b[0mrange\u001b[0m\u001b[0;34m(\u001b[0m\u001b[0mlen\u001b[0m\u001b[0;34m(\u001b[0m\u001b[0mvalues\u001b[0m\u001b[0;34m)\u001b[0m\u001b[0;34m)\u001b[0m\u001b[0;34m:\u001b[0m\u001b[0;34m\u001b[0m\u001b[0m\n\u001b[0;32m----> 6\u001b[0;31m             \u001b[0;32massert\u001b[0m \u001b[0mlen\u001b[0m\u001b[0;34m(\u001b[0m\u001b[0mvalues\u001b[0m\u001b[0;34m[\u001b[0m\u001b[0mi\u001b[0m\u001b[0;34m]\u001b[0m\u001b[0;34m)\u001b[0m \u001b[0;34m==\u001b[0m\u001b[0;36m2\u001b[0m\u001b[0;34m,\u001b[0m \u001b[0;34m'Entries must be pairs'\u001b[0m\u001b[0;34m\u001b[0m\u001b[0m\n\u001b[0m\u001b[1;32m      7\u001b[0m         \u001b[0;32mfor\u001b[0m \u001b[0mi\u001b[0m \u001b[0;32min\u001b[0m \u001b[0mrange\u001b[0m\u001b[0;34m(\u001b[0m\u001b[0mlen\u001b[0m\u001b[0;34m(\u001b[0m\u001b[0mvalues\u001b[0m\u001b[0;34m)\u001b[0m\u001b[0;34m-\u001b[0m\u001b[0;36m1\u001b[0m\u001b[0;34m)\u001b[0m\u001b[0;34m:\u001b[0m\u001b[0;34m\u001b[0m\u001b[0m\n\u001b[1;32m      8\u001b[0m             \u001b[0mx0\u001b[0m \u001b[0;34m=\u001b[0m \u001b[0mvalues\u001b[0m\u001b[0;34m[\u001b[0m\u001b[0mi\u001b[0m\u001b[0;34m]\u001b[0m\u001b[0;34m[\u001b[0m\u001b[0;36m0\u001b[0m\u001b[0;34m]\u001b[0m\u001b[0;34m\u001b[0m\u001b[0m\n",
        "\u001b[0;31mAssertionError\u001b[0m: Entries must be pairs"
       ]
      }
     ],
     "prompt_number": 22
    }
   ],
   "metadata": {}
  }
 ]
}