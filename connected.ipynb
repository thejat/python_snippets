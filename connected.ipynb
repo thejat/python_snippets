{
 "metadata": {
  "name": "connected"
 },
 "nbformat": 3,
 "nbformat_minor": 0,
 "worksheets": [
  {
   "cells": [
    {
     "cell_type": "raw",
     "metadata": {},
     "source": [
      "You are given a rectangular grid of binary pixels, i.e., a bitmap where each of the pixels can be black or white. There is a number of black objects in the bitmap. You do not know their shape, size or position. If any part of two objects are on neighboring pixels, they are considered as one object. Write a program that takes the binary grid as input and returns the number of disjoint objects that can be found in the bitmap.\n",
      "\n",
      "Example:\n",
      "\n",
      "inputfile:\n",
      ". . . . . . . . . .\n",
      ". o . x . . . x . .\n",
      ". . . x . . . x . .\n",
      ". x x x . . . x x .\n",
      ". . . . . . . . . .\n",
      ". x . x . x x x x .\n",
      ". x . x . x x x x .\n",
      ". x . x . x x x x .\n",
      ". x x x . . . . . .\n",
      ". . . . . . . x x x \n",
      "output: 5"
     ]
    },
    {
     "cell_type": "code",
     "collapsed": false,
     "input": [
      "def numberOfComponents(arr2d,xlimit,ylimit):\n",
      "    visited = []#list of tuples (i,j) visited initially is 0\n",
      "    count = 0 #initial number of connectd components is 0\n",
      "    for i in range(xlimit):\n",
      "        for j in range(ylimit):\n",
      "            if((i,j) not in visited):\n",
      "                visited.append((i,j))#irrespective of '.' or 'x', we have visited this position\n",
      "                if arr2d[i][j].markx == '.':\n",
      "                    continue\n",
      "                visited = connected(arr2d,(i,j),visited)#recursively find the component\n",
      "                count+=count\n",
      "    return count"
     ],
     "language": "python",
     "metadata": {},
     "outputs": [],
     "prompt_number": 17
    },
    {
     "cell_type": "code",
     "collapsed": false,
     "input": [
      "#output of connected is a list of tuples visited upto this point \n",
      "def connected(arr2d,currentPosition,visited): #return the list of points visited while exploring this connected component\n",
      "    nbhd = getNbhd(currentPosition)\n",
      "    \n",
      "    while(thereIsANeighborX(arr2d,currentPosition,nbhd))\n",
      "    \n",
      "    \n",
      "   #explore nbhd\n",
      "   nbhdMarked = []\n",
      "   tempvisited = []\n",
      "   for i in [-1,0,1]:\n",
      "       for j in [-1,0,1]:\n",
      "           #boundary conditions can be done within subroutine\n",
      "           #black only\n",
      "           subroutine(arr2d,(currentPosition[0]-i,currentPosition[1]-j),visited)\n",
      "           \n",
      "   return [(currentPosition)].extend(subroutine)\n",
      " \n",
      "def getNbhd(pos):\n",
      "    if pos[0]==0 and pos[1]==0:\n",
      "        nbhd = [(pos[0]+x[0],pos[1]+x[1]) for x in [(1,0),(0,1),(1,1)]]\n",
      "    else if currentPosition[1]==0:\n",
      "    nbhd = [() for i in []]"
     ],
     "language": "python",
     "metadata": {},
     "outputs": []
    },
    {
     "cell_type": "code",
     "collapsed": false,
     "input": [
      "      \n",
      "def parseData(filename):\n",
      "    #returns list of lists\n",
      "    with open(filename,'rb') as fin:\n",
      "        data = fin.read().split('\\n')\n",
      "        data = [x.split(' ') for x in data]\n",
      "        if(data[-1][-1]==''):\n",
      "            data[-1].pop()\n",
      "        xlimit = len(data[1])\n",
      "        ylimit = len(data)\n",
      "        return data,xlimit,ylimit"
     ],
     "language": "python",
     "metadata": {},
     "outputs": [],
     "prompt_number": 13
    },
    {
     "cell_type": "code",
     "collapsed": false,
     "input": [
      "arr2d,xlimit,ylimit = parseData('data.md')"
     ],
     "language": "python",
     "metadata": {},
     "outputs": [],
     "prompt_number": 14
    },
    {
     "cell_type": "code",
     "collapsed": false,
     "input": [
      "arr2d"
     ],
     "language": "python",
     "metadata": {},
     "outputs": [
      {
       "output_type": "pyout",
       "prompt_number": 15,
       "text": [
        "[['.', '.', '.', '.', '.', '.', '.', '.', '.', '.'],\n",
        " ['.', 'o', '.', 'x', '.', '.', '.', 'x', '.', '.'],\n",
        " ['.', '.', '.', 'x', '.', '.', '.', 'x', '.', '.'],\n",
        " ['.', 'x', 'x', 'x', '.', '.', '.', 'x', 'x', '.'],\n",
        " ['.', '.', '.', '.', '.', '.', '.', '.', '.', '.'],\n",
        " ['.', 'x', '.', 'x', '.', 'x', 'x', 'x', 'x', '.'],\n",
        " ['.', 'x', '.', 'x', '.', 'x', 'x', 'x', 'x', '.'],\n",
        " ['.', 'x', '.', 'x', '.', 'x', 'x', 'x', 'x', '.'],\n",
        " ['.', 'x', 'x', 'x', '.', '.', '.', '.', '.', '.'],\n",
        " ['.', '.', '.', '.', '.', '.', '.', 'x', 'x', 'x']]"
       ]
      }
     ],
     "prompt_number": 15
    },
    {
     "cell_type": "code",
     "collapsed": false,
     "input": [
      "whos"
     ],
     "language": "python",
     "metadata": {},
     "outputs": [
      {
       "output_type": "stream",
       "stream": "stdout",
       "text": [
        "Variable    Type        Data/Info\n",
        "---------------------------------\n",
        "arr2d       list        n=10\n",
        "parseData   function    <function parseData at 0x1088abed8>\n",
        "xlimit      int         10\n",
        "ylimit      int         10\n"
       ]
      }
     ],
     "prompt_number": 16
    },
    {
     "cell_type": "code",
     "collapsed": false,
     "input": [],
     "language": "python",
     "metadata": {},
     "outputs": []
    }
   ],
   "metadata": {}
  }
 ]
}