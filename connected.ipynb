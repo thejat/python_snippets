{
 "metadata": {
  "name": "connected"
 },
 "nbformat": 3,
 "nbformat_minor": 0,
 "worksheets": [
  {
   "cells": [
    {
     "cell_type": "raw",
     "metadata": {},
     "source": [
      "You are given a rectangular grid of binary pixels, i.e., a bitmap where each of the pixels can be black or white. There is a number of black objects in the bitmap. You do not know their shape, size or position. If any part of two objects are on neighboring pixels, they are considered as one object. Write a program that takes the binary grid as input and returns the number of disjoint objects that can be found in the bitmap.\n",
      "\n",
      "Example:\n",
      "\n",
      "inputfile:\n",
      ". . . . . . . . . .\n",
      ". o . x . . . x . .\n",
      ". . . x . . . x . .\n",
      ". x x x . . . x x .\n",
      ". . . . . . . . . .\n",
      ". x . x . x x x x .\n",
      ". x . x . x x x x .\n",
      ". x . x . x x x x .\n",
      ". x x x . . . . . .\n",
      ". . . . . . . x x x \n",
      "output: 5"
     ]
    },
    {
     "cell_type": "code",
     "collapsed": false,
     "input": [
      "arr2d,limits = parseData('data.md')"
     ],
     "language": "python",
     "metadata": {},
     "outputs": [],
     "prompt_number": 2
    },
    {
     "cell_type": "code",
     "collapsed": false,
     "input": [
      "import pdb\n",
      "\n",
      "def numberOfComponents(arr2d,limits):\n",
      "    visited = []#list of tuples (i,j) visited initially is 0\n",
      "    count = 0 #initial number of connectd components is 0\n",
      "    for i in range(limits[0]):\n",
      "        for j in range(limits[1]):\n",
      "            if((i,j) not in visited):\n",
      "                visited.append((i,j))#irrespective of '.' or 'x', we have visited this position\n",
      "                if arr2d[i][j] == '.':\n",
      "                    continue\n",
      "                visited = connected(arr2d,(i,j),visited,limits)#recursively find the component\n",
      "                count+=count\n",
      "    return count\n",
      "\n",
      "def getNbhd(pos,limits):\n",
      "    if pos[0]==0 and pos[1]==0:\n",
      "        nbhd = [(pos[0]+x[0],pos[1]+x[1]) for x in [(1,0),(0,1),(1,1)]]\n",
      "    elif pos[0]==limits[0] and pos[1]==limits[1]:\n",
      "        nbhd = [(pos[0]+x[0],pos[1]+x[1]) for x in [(-1,0),(0,-1),(-1,-1)]]\n",
      "    elif pos[0]==0 and pos[1]==limits[1]:\n",
      "        nbhd = [(pos[0]+x[0],pos[1]+x[1]) for x in [(1,0),(0,-1),(1,-1)]]\n",
      "    elif pos[0]==limits[0] and pos[1]==0:\n",
      "        nbhd = [(pos[0]+x[0],pos[1]+x[1]) for x in [(-1,0),(0,1),(-1,1)]]\n",
      "    elif pos[0]==0:\n",
      "        nbhd = [(pos[0]+x[0],pos[1]+x[1]) for x in [(1,0),(0,1),(1,1),(0,-1),(1,-1)]]\n",
      "    elif pos[0]==limits[0]:\n",
      "        nbhd = [(pos[0]+x[0],pos[1]+x[1]) for x in [(-1,0),(0,-1),(-1,-1),(0,1),(-1,1)]]\n",
      "    elif pos[1]==0:\n",
      "        nbhd = [(pos[0]+x[0],pos[1]+x[1]) for x in [(-1,0),(1,0),(0,1),(-1,1),(1,1)]]\n",
      "    elif pos[1]==limits[1]:\n",
      "        nbhd = [(pos[0]+x[0],pos[1]+x[1]) for x in [(-1,0),(1,0),(0,-1),(-1,-1),(1,-1)]]\n",
      "    else:\n",
      "        nbhd = [(pos[0]+x[0],pos[1]+x[1]) for x in [(-1,0),(1,0),(0,-1),(0,1),(1,-1),(1,1),(-1,1),(-1,-1)]]\n",
      "    return nbhd\n",
      "\n",
      "#output of connected is a list of tuples visited upto this point \n",
      "def connected(arr2d,pos,visited,limits): #return the list of points visited while exploring this connected component\n",
      "    nbhd = getNbhd(pos,limits)\n",
      "    flag_no_more_x = 1\n",
      "    for n in nbhd:\n",
      "        if n in visited:\n",
      "            continue\n",
      "        visited.append(n) #append this position regardness of marking\n",
      "        print n\n",
      "        if arr2d[n[0]][n[1]] == 'x':\n",
      "           visited = connected(arr2d,n,visited,limits)\n",
      "    return visited \n",
      "      \n",
      "def parseData(filename):\n",
      "    limits = []\n",
      "    #returns list of lists\n",
      "    with open(filename,'rb') as fin:\n",
      "        data = fin.read().split('\\n')\n",
      "        data = [x.split(' ') for x in data]\n",
      "        if(data[-1][-1]==''):\n",
      "            data[-1].pop()\n",
      "        limits.append(len(data[1]))\n",
      "        limits.append(len(data))\n",
      "        return data,limits\n",
      "\n",
      "print numberOfComponents(arr2d,limits)"
     ],
     "language": "python",
     "metadata": {},
     "outputs": [
      {
       "ename": "IndexError",
       "evalue": "list index out of range",
       "output_type": "pyerr",
       "traceback": [
        "\u001b[0;31m---------------------------------------------------------------------------\u001b[0m\n\u001b[0;31mIndexError\u001b[0m                                Traceback (most recent call last)",
        "\u001b[0;32m<ipython-input-3-7c6ab0fe9e6e>\u001b[0m in \u001b[0;36m<module>\u001b[0;34m()\u001b[0m\n\u001b[0;32m----> 1\u001b[0;31m \u001b[0;32mprint\u001b[0m \u001b[0mnumberOfComponents\u001b[0m\u001b[0;34m(\u001b[0m\u001b[0marr2d\u001b[0m\u001b[0;34m,\u001b[0m\u001b[0mlimits\u001b[0m\u001b[0;34m)\u001b[0m\u001b[0;34m\u001b[0m\u001b[0m\n\u001b[0m",
        "\u001b[0;32m<ipython-input-1-ef75be9bd0ba>\u001b[0m in \u001b[0;36mnumberOfComponents\u001b[0;34m(arr2d, limits)\u001b[0m\n\u001b[1;32m     10\u001b[0m                 \u001b[0;32mif\u001b[0m \u001b[0marr2d\u001b[0m\u001b[0;34m[\u001b[0m\u001b[0mi\u001b[0m\u001b[0;34m]\u001b[0m\u001b[0;34m[\u001b[0m\u001b[0mj\u001b[0m\u001b[0;34m]\u001b[0m \u001b[0;34m==\u001b[0m \u001b[0;34m'.'\u001b[0m\u001b[0;34m:\u001b[0m\u001b[0;34m\u001b[0m\u001b[0m\n\u001b[1;32m     11\u001b[0m                     \u001b[0;32mcontinue\u001b[0m\u001b[0;34m\u001b[0m\u001b[0m\n\u001b[0;32m---> 12\u001b[0;31m                 \u001b[0mvisited\u001b[0m \u001b[0;34m=\u001b[0m \u001b[0mconnected\u001b[0m\u001b[0;34m(\u001b[0m\u001b[0marr2d\u001b[0m\u001b[0;34m,\u001b[0m\u001b[0;34m(\u001b[0m\u001b[0mi\u001b[0m\u001b[0;34m,\u001b[0m\u001b[0mj\u001b[0m\u001b[0;34m)\u001b[0m\u001b[0;34m,\u001b[0m\u001b[0mvisited\u001b[0m\u001b[0;34m,\u001b[0m\u001b[0mlimits\u001b[0m\u001b[0;34m)\u001b[0m\u001b[0;31m#recursively find the component\u001b[0m\u001b[0;34m\u001b[0m\u001b[0m\n\u001b[0m\u001b[1;32m     13\u001b[0m                 \u001b[0mcount\u001b[0m\u001b[0;34m+=\u001b[0m\u001b[0mcount\u001b[0m\u001b[0;34m\u001b[0m\u001b[0m\n\u001b[1;32m     14\u001b[0m     \u001b[0;32mreturn\u001b[0m \u001b[0mcount\u001b[0m\u001b[0;34m\u001b[0m\u001b[0m\n",
        "\u001b[0;32m<ipython-input-1-ef75be9bd0ba>\u001b[0m in \u001b[0;36mconnected\u001b[0;34m(arr2d, pos, visited, limits)\u001b[0m\n\u001b[1;32m     43\u001b[0m             \u001b[0;32mcontinue\u001b[0m\u001b[0;34m\u001b[0m\u001b[0m\n\u001b[1;32m     44\u001b[0m         \u001b[0mvisited\u001b[0m\u001b[0;34m.\u001b[0m\u001b[0mappend\u001b[0m\u001b[0;34m(\u001b[0m\u001b[0mn\u001b[0m\u001b[0;34m)\u001b[0m \u001b[0;31m#append this position regardness of marking\u001b[0m\u001b[0;34m\u001b[0m\u001b[0m\n\u001b[0;32m---> 45\u001b[0;31m         \u001b[0;32mif\u001b[0m \u001b[0marr2d\u001b[0m\u001b[0;34m[\u001b[0m\u001b[0mn\u001b[0m\u001b[0;34m[\u001b[0m\u001b[0;36m0\u001b[0m\u001b[0;34m]\u001b[0m\u001b[0;34m]\u001b[0m\u001b[0;34m[\u001b[0m\u001b[0mn\u001b[0m\u001b[0;34m[\u001b[0m\u001b[0;36m1\u001b[0m\u001b[0;34m]\u001b[0m\u001b[0;34m]\u001b[0m \u001b[0;34m==\u001b[0m \u001b[0;34m'x'\u001b[0m\u001b[0;34m:\u001b[0m\u001b[0;34m\u001b[0m\u001b[0m\n\u001b[0m\u001b[1;32m     46\u001b[0m            \u001b[0mvisited\u001b[0m \u001b[0;34m=\u001b[0m \u001b[0mconnected\u001b[0m\u001b[0;34m(\u001b[0m\u001b[0marr2d\u001b[0m\u001b[0;34m,\u001b[0m\u001b[0mn\u001b[0m\u001b[0;34m,\u001b[0m\u001b[0mvisited\u001b[0m\u001b[0;34m,\u001b[0m\u001b[0mlimits\u001b[0m\u001b[0;34m)\u001b[0m\u001b[0;34m\u001b[0m\u001b[0m\n\u001b[1;32m     47\u001b[0m     \u001b[0;32mreturn\u001b[0m \u001b[0mvisited\u001b[0m\u001b[0;34m\u001b[0m\u001b[0m\n",
        "\u001b[0;31mIndexError\u001b[0m: list index out of range"
       ]
      }
     ],
     "prompt_number": 3
    },
    {
     "cell_type": "code",
     "collapsed": false,
     "input": [
      "range(limits[0])"
     ],
     "language": "python",
     "metadata": {},
     "outputs": [
      {
       "output_type": "pyout",
       "prompt_number": 40,
       "text": [
        "[0, 1, 2, 3, 4, 5, 6, 7, 8, 9]"
       ]
      }
     ],
     "prompt_number": 40
    },
    {
     "cell_type": "code",
     "collapsed": false,
     "input": [],
     "language": "python",
     "metadata": {},
     "outputs": [],
     "prompt_number": 3
    },
    {
     "cell_type": "code",
     "collapsed": false,
     "input": [],
     "language": "python",
     "metadata": {},
     "outputs": []
    }
   ],
   "metadata": {}
  }
 ]
}