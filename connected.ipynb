{
 "metadata": {
  "name": "connected"
 },
 "nbformat": 3,
 "nbformat_minor": 0,
 "worksheets": [
  {
   "cells": [
    {
     "cell_type": "raw",
     "metadata": {},
     "source": [
      "You are given a rectangular grid of binary pixels, i.e., a bitmap where each of the pixels can be black or white. There is a number of black objects in the bitmap. You do not know their shape, size or position. If any part of two objects are on neighboring pixels, they are considered as one object. Write a program that takes the binary grid as input and returns the number of disjoint objects that can be found in the bitmap.\n",
      "\n",
      "Example:\n",
      "\n",
      "inputfile:\n",
      ". . . . . . . . . .\n",
      ". o . x . . . x . .\n",
      ". . . x . . . x . .\n",
      ". x x x . . . x x .\n",
      ". . . . . . . . . .\n",
      ". x . x . x x x x .\n",
      ". x . x . x x x x .\n",
      ". x . x . x x x x .\n",
      ". x x x . . . . . .\n",
      ". . . . . . . x x x \n",
      "output: 5"
     ]
    },
    {
     "cell_type": "code",
     "collapsed": false,
     "input": [
      "def numberOfComponents(arr2d,limits):\n",
      "    visited = []#list of tuples (i,j) visited initially is 0\n",
      "    count = 0 #initial number of connectd components is 0\n",
      "    for i in range(limits[0]):\n",
      "        for j in range(limits[1]):\n",
      "            if((i,j) not in visited):\n",
      "                visited.append((i,j))#irrespective of '.' or 'x', we have visited this position\n",
      "                if arr2d[i][j] == '.':\n",
      "                    continue\n",
      "                visited = connected(arr2d,(i,j),visited,limits)#recursively find the component\n",
      "                count+=1\n",
      "    return count\n",
      "\n",
      "def getNbhd(pos,limits):\n",
      "    if pos[0]==0 and pos[1]==0:\n",
      "        nbhd = [(pos[0]+x[0],pos[1]+x[1]) for x in [(1,0),(0,1),(1,1)]]\n",
      "    elif pos[0]==limits[0]-1 and pos[1]==limits[1]-1:\n",
      "        nbhd = [(pos[0]+x[0],pos[1]+x[1]) for x in [(-1,0),(0,-1),(-1,-1)]]\n",
      "    elif pos[0]==0 and pos[1]==limits[1]-1:\n",
      "        nbhd = [(pos[0]+x[0],pos[1]+x[1]) for x in [(1,0),(0,-1),(1,-1)]]\n",
      "    elif pos[0]==limits[0]-1 and pos[1]==0:\n",
      "        nbhd = [(pos[0]+x[0],pos[1]+x[1]) for x in [(-1,0),(0,1),(-1,1)]]\n",
      "    elif pos[0]==0:\n",
      "        nbhd = [(pos[0]+x[0],pos[1]+x[1]) for x in [(1,0),(0,1),(1,1),(0,-1),(1,-1)]]\n",
      "    elif pos[0]==limits[0]-1:\n",
      "        nbhd = [(pos[0]+x[0],pos[1]+x[1]) for x in [(-1,0),(0,-1),(-1,-1),(0,1),(-1,1)]]\n",
      "    elif pos[1]==0:\n",
      "        nbhd = [(pos[0]+x[0],pos[1]+x[1]) for x in [(-1,0),(1,0),(0,1),(-1,1),(1,1)]]\n",
      "    elif pos[1]==limits[1]-1:\n",
      "        nbhd = [(pos[0]+x[0],pos[1]+x[1]) for x in [(-1,0),(1,0),(0,-1),(-1,-1),(1,-1)]]\n",
      "    else:\n",
      "        nbhd = [(pos[0]+x[0],pos[1]+x[1]) for x in [(-1,0),(1,0),(0,-1),(0,1),(1,-1),(1,1),(-1,1),(-1,-1)]]\n",
      "    return nbhd\n",
      "\n",
      "#output of connected is a list of tuples visited upto this point \n",
      "def connected(arr2d,pos,visited,limits): #return the list of points visited while exploring this connected component\n",
      "    nbhd = getNbhd(pos,limits)\n",
      "    #print nbhd,pos\n",
      "    for n in nbhd:\n",
      "        if n in visited:\n",
      "            continue\n",
      "        visited.append(n) #append this position regardness of marking\n",
      "        if arr2d[n[0]][n[1]] == 'x':\n",
      "           visited = connected(arr2d,n,visited,limits)\n",
      "    return visited \n",
      "      \n",
      "def parseData(filename):\n",
      "    limits = []\n",
      "    #returns list of lists\n",
      "    with open(filename,'rb') as fin:\n",
      "        data = fin.read().split('\\n')\n",
      "        data = [x.split(' ') for x in data]\n",
      "        if(data[-1][-1]==''):\n",
      "            data[-1].pop()\n",
      "        limits.append(len(data[1]))\n",
      "        limits.append(len(data))\n",
      "        return data,limits\n",
      "\n",
      "arr2d,limits = parseData('data.md')\n",
      "print 'Number of distinct connected components: ',numberOfComponents(arr2d,limits)"
     ],
     "language": "python",
     "metadata": {},
     "outputs": [
      {
       "output_type": "stream",
       "stream": "stdout",
       "text": [
        "Number of distinct connected components:  5\n"
       ]
      }
     ],
     "prompt_number": 10
    }
   ],
   "metadata": {}
  }
 ]
}