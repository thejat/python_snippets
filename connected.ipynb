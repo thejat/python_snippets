{
 "metadata": {
  "name": "AmazonInterview20140326"
 },
 "nbformat": 3,
 "nbformat_minor": 0,
 "worksheets": [
  {
   "cells": [
    {
     "cell_type": "raw",
     "metadata": {},
     "source": [
      "You are given a rectangular grid of binary pixels, i.e., a bitmap where each of the pixels can be black or white. There is a number of black objects in the bitmap. You do not know their shape, size or position. If any part of two objects are on neighboring pixels, they are considered as one object. Write a program that takes the binary grid as input and returns the number of disjoint objects that can be found in the bitmap.\n",
      "\n",
      "Example:\n",
      "\n",
      "inputfile:\n",
      ". . . . . . . . . .\n",
      ". o . x . . . x . .\n",
      ". . . x . . . x . .\n",
      ". x x x . . . x x .\n",
      ". . . . . . . . . .\n",
      ". x . x . x x x x .\n",
      ". x . x . x x x x .\n",
      ". x . x . x x x x .\n",
      ". x x x . . . . . .\n",
      ". . . . . . . x x x \n",
      "output: 5"
     ]
    },
    {
     "cell_type": "code",
     "collapsed": false,
     "input": [
      "def numberOfComponents(arr2d):\n",
      "  visited = []#list of tuples (i,j)\n",
      "  listOfComponents = []\n",
      "  \n",
      "  for i in range(arr2d.length1):\n",
      "      for j in range(arr2d.length2):\n",
      "          if((i,j) not in visited):\n",
      "              if arr2d[i][j].markx == WHITE:\n",
      "                  continue\n",
      "              component,tempvisited = subroutine(arr2d,(i,j),visited)#recursively find the component\n",
      "              listOfComponents.append(component)\n",
      "              visited.extend(tempvisited)\n",
      "  return len(listOfComponents)\n",
      " \n",
      "#output of subroutine is a list of tuples \n",
      "def subroutine(arr2d,currentPosition,visited): #return the list of points in the connected component else return None\n",
      "   //explore nbhd\n",
      "   nbhdMarked = []\n",
      "   tempvisited = []\n",
      "   for i in [-1,0,1]:\n",
      "       for j in [-1,0,1]:\n",
      "           #boundary conditions can be done within subroutine\n",
      "           #black only\n",
      "           subroutine(arr2d,(currentPosition[0]-i,currentPosition[1]-j),visited)\n",
      "           \n",
      "   return [(currentPosition)].extend(subroutine)\n",
      " \n",
      "  "
     ],
     "language": "python",
     "metadata": {},
     "outputs": []
    },
    {
     "cell_type": "code",
     "collapsed": false,
     "input": [
      "      \n",
      "def parseData(filename):\n",
      "    #returns list of lists\n",
      "    with open(filename,'rb') as fin:\n",
      "        data = fin.read().split('\\n')\n",
      "        data = [x.split(' ') for x in data]\n",
      "        if(data[-1][-1]==''):\n",
      "            data[-1].pop()\n",
      "        return data"
     ],
     "language": "python",
     "metadata": {},
     "outputs": [],
     "prompt_number": 14
    },
    {
     "cell_type": "code",
     "collapsed": false,
     "input": [
      "arr2d = parseData('data.md')"
     ],
     "language": "python",
     "metadata": {},
     "outputs": [],
     "prompt_number": 15
    },
    {
     "cell_type": "code",
     "collapsed": false,
     "input": [
      "arr2d"
     ],
     "language": "python",
     "metadata": {},
     "outputs": [
      {
       "output_type": "pyout",
       "prompt_number": 16,
       "text": [
        "[['.', '.', '.', '.', '.', '.', '.', '.', '.', '.'],\n",
        " ['.', 'o', '.', 'x', '.', '.', '.', 'x', '.', '.'],\n",
        " ['.', '.', '.', 'x', '.', '.', '.', 'x', '.', '.'],\n",
        " ['.', 'x', 'x', 'x', '.', '.', '.', 'x', 'x', '.'],\n",
        " ['.', '.', '.', '.', '.', '.', '.', '.', '.', '.'],\n",
        " ['.', 'x', '.', 'x', '.', 'x', 'x', 'x', 'x', '.'],\n",
        " ['.', 'x', '.', 'x', '.', 'x', 'x', 'x', 'x', '.'],\n",
        " ['.', 'x', '.', 'x', '.', 'x', 'x', 'x', 'x', '.'],\n",
        " ['.', 'x', 'x', 'x', '.', '.', '.', '.', '.', '.'],\n",
        " ['.', '.', '.', '.', '.', '.', '.', 'x', 'x', 'x']]"
       ]
      }
     ],
     "prompt_number": 16
    },
    {
     "cell_type": "code",
     "collapsed": false,
     "input": [],
     "language": "python",
     "metadata": {},
     "outputs": []
    }
   ],
   "metadata": {}
  }
 ]
}